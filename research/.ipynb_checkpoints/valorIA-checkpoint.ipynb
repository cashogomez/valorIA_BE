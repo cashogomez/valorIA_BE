{
 "cells": [
  {
   "cell_type": "markdown",
   "id": "fa4e4eb8",
   "metadata": {},
   "source": [
    "# Diseño de una IA para el mercado de valores"
   ]
  },
  {
   "cell_type": "markdown",
   "id": "2470f71c",
   "metadata": {},
   "source": [
    "<a id=\"1\"></a>\n",
    "## Carga de los datos"
   ]
  },
  {
   "cell_type": "code",
   "execution_count": 1,
   "id": "f1533bdd",
   "metadata": {},
   "outputs": [
    {
     "name": "stdout",
     "output_type": "stream",
     "text": [
      "datos3/TSLA_30min.csv\n",
      "datos3/.DS_Store\n",
      "datos3/TSLA_15min.csv\n",
      "datos3/TSLA.csv\n",
      "datos3/TSLA_5min.csv\n",
      "datos3/Tesla.csv\n",
      "datos3/TSLA_1min.csv\n"
     ]
    }
   ],
   "source": [
    "import numpy as np # linear algebra\n",
    "import pandas as pd # data processing, CSV file I/O (e.g. pd.read_csv)\n",
    "import matplotlib.pyplot as plt\n",
    "import warnings\n",
    "warnings.filterwarnings(\"ignore\")\n",
    "\n",
    "# Establecer el nombre del directorio en el que se almacenan los datos\n",
    "\n",
    "import os\n",
    "for dirname, _, filenames in os.walk('datos3'):\n",
    "    for filename in filenames:\n",
    "        print(os.path.join(dirname, filename))\n"
   ]
  },
  {
   "cell_type": "code",
   "execution_count": 2,
   "id": "6b4cafdf",
   "metadata": {},
   "outputs": [],
   "source": [
    "# Lectura del archivo y limpieza de renglones vacios\n",
    "# Date\tOpen\tHigh\tLow\tClose\tVolume\n",
    "\n",
    "#Los encabezados que se espera tengan los archivos de datos\n",
    "\n",
    "data2 = pd.read_csv(\"datos3/TSLA_15min.csv\", parse_dates=True)\n",
    "data2.sort_values('Date', ascending=False, inplace=True)\n",
    "bool_series = pd.notnull(data2[\"Date\"]) \n",
    "data = data2[bool_series] \n"
   ]
  },
  {
   "cell_type": "code",
   "execution_count": 3,
   "id": "72dd59bb",
   "metadata": {},
   "outputs": [
    {
     "name": "stdout",
     "output_type": "stream",
     "text": [
      "<class 'pandas.core.frame.DataFrame'>\n",
      "Index: 1024 entries, 808 to 743\n",
      "Data columns (total 6 columns):\n",
      " #   Column  Non-Null Count  Dtype  \n",
      "---  ------  --------------  -----  \n",
      " 0   Date    1024 non-null   object \n",
      " 1   Open    1024 non-null   float64\n",
      " 2   High    1024 non-null   float64\n",
      " 3   Low     1024 non-null   float64\n",
      " 4   Close   1024 non-null   float64\n",
      " 5   Volume  1024 non-null   int64  \n",
      "dtypes: float64(4), int64(1), object(1)\n",
      "memory usage: 56.0+ KB\n"
     ]
    }
   ],
   "source": [
    "# Impresión del encabezado de los archivos de lectura\n",
    "data.head()\n",
    "\n",
    "# Impresión de los datos de los archivos\n",
    "data.info()"
   ]
  },
  {
   "cell_type": "markdown",
   "id": "fe43ef33",
   "metadata": {},
   "source": [
    "## División de los datos para entrenamiento y evaluación"
   ]
  },
  {
   "cell_type": "code",
   "execution_count": 4,
   "id": "963a0503",
   "metadata": {},
   "outputs": [
    {
     "name": "stdout",
     "output_type": "stream",
     "text": [
      "Tamaño de los datos : 1024\n",
      "Tamaño de los datos de entrenamiento : 717\n",
      "Tamaño de los datos de validación : 307\n"
     ]
    }
   ],
   "source": [
    "length_data = len(data)     # filas que tienen los datos\n",
    "split_ratio = 0.7           # %70 entrenamiento + %30 validación\n",
    "length_train = round(length_data * split_ratio)  \n",
    "length_validation = length_data - length_train\n",
    "print(\"Tamaño de los datos :\", length_data)\n",
    "print(\"Tamaño de los datos de entrenamiento :\", length_train)\n",
    "print(\"Tamaño de los datos de validación :\", length_validation)"
   ]
  },
  {
   "cell_type": "code",
   "execution_count": 5,
   "id": "df4a5260",
   "metadata": {},
   "outputs": [
    {
     "data": {
      "text/html": [
       "<div>\n",
       "<style scoped>\n",
       "    .dataframe tbody tr th:only-of-type {\n",
       "        vertical-align: middle;\n",
       "    }\n",
       "\n",
       "    .dataframe tbody tr th {\n",
       "        vertical-align: top;\n",
       "    }\n",
       "\n",
       "    .dataframe thead th {\n",
       "        text-align: right;\n",
       "    }\n",
       "</style>\n",
       "<table border=\"1\" class=\"dataframe\">\n",
       "  <thead>\n",
       "    <tr style=\"text-align: right;\">\n",
       "      <th></th>\n",
       "      <th>Date</th>\n",
       "      <th>Open</th>\n",
       "    </tr>\n",
       "  </thead>\n",
       "  <tbody>\n",
       "    <tr>\n",
       "      <th>808</th>\n",
       "      <td>2023-09-29 09:45:00</td>\n",
       "      <td>249.935</td>\n",
       "    </tr>\n",
       "    <tr>\n",
       "      <th>809</th>\n",
       "      <td>2023-09-29 09:30:00</td>\n",
       "      <td>250.000</td>\n",
       "    </tr>\n",
       "    <tr>\n",
       "      <th>810</th>\n",
       "      <td>2023-09-29 09:15:00</td>\n",
       "      <td>250.650</td>\n",
       "    </tr>\n",
       "    <tr>\n",
       "      <th>811</th>\n",
       "      <td>2023-09-29 09:00:00</td>\n",
       "      <td>250.600</td>\n",
       "    </tr>\n",
       "    <tr>\n",
       "      <th>812</th>\n",
       "      <td>2023-09-29 08:45:00</td>\n",
       "      <td>250.210</td>\n",
       "    </tr>\n",
       "    <tr>\n",
       "      <th>...</th>\n",
       "      <td>...</td>\n",
       "      <td>...</td>\n",
       "    </tr>\n",
       "    <tr>\n",
       "      <th>496</th>\n",
       "      <td>2023-06-10 07:45:00</td>\n",
       "      <td>256.080</td>\n",
       "    </tr>\n",
       "    <tr>\n",
       "      <th>497</th>\n",
       "      <td>2023-06-10 07:30:00</td>\n",
       "      <td>256.160</td>\n",
       "    </tr>\n",
       "    <tr>\n",
       "      <th>498</th>\n",
       "      <td>2023-06-10 07:15:00</td>\n",
       "      <td>256.480</td>\n",
       "    </tr>\n",
       "    <tr>\n",
       "      <th>499</th>\n",
       "      <td>2023-06-10 07:00:00</td>\n",
       "      <td>256.980</td>\n",
       "    </tr>\n",
       "    <tr>\n",
       "      <th>500</th>\n",
       "      <td>2023-06-10 06:45:00</td>\n",
       "      <td>257.200</td>\n",
       "    </tr>\n",
       "  </tbody>\n",
       "</table>\n",
       "<p>717 rows × 2 columns</p>\n",
       "</div>"
      ],
      "text/plain": [
       "                   Date     Open\n",
       "808 2023-09-29 09:45:00  249.935\n",
       "809 2023-09-29 09:30:00  250.000\n",
       "810 2023-09-29 09:15:00  250.650\n",
       "811 2023-09-29 09:00:00  250.600\n",
       "812 2023-09-29 08:45:00  250.210\n",
       "..                  ...      ...\n",
       "496 2023-06-10 07:45:00  256.080\n",
       "497 2023-06-10 07:30:00  256.160\n",
       "498 2023-06-10 07:15:00  256.480\n",
       "499 2023-06-10 07:00:00  256.980\n",
       "500 2023-06-10 06:45:00  257.200\n",
       "\n",
       "[717 rows x 2 columns]"
      ]
     },
     "execution_count": 5,
     "metadata": {},
     "output_type": "execute_result"
    }
   ],
   "source": [
    "# Creando datos de entrenamiento\n",
    "\n",
    "train_data = data[:length_train].iloc[:,:2] \n",
    "train_data['Date'] = pd.to_datetime(train_data['Date'])  # convirtiendo a objetos de data time\n",
    "train_data"
   ]
  },
  {
   "cell_type": "code",
   "execution_count": 6,
   "id": "583288e5",
   "metadata": {},
   "outputs": [
    {
     "data": {
      "text/html": [
       "<div>\n",
       "<style scoped>\n",
       "    .dataframe tbody tr th:only-of-type {\n",
       "        vertical-align: middle;\n",
       "    }\n",
       "\n",
       "    .dataframe tbody tr th {\n",
       "        vertical-align: top;\n",
       "    }\n",
       "\n",
       "    .dataframe thead th {\n",
       "        text-align: right;\n",
       "    }\n",
       "</style>\n",
       "<table border=\"1\" class=\"dataframe\">\n",
       "  <thead>\n",
       "    <tr style=\"text-align: right;\">\n",
       "      <th></th>\n",
       "      <th>Date</th>\n",
       "      <th>Open</th>\n",
       "    </tr>\n",
       "  </thead>\n",
       "  <tbody>\n",
       "    <tr>\n",
       "      <th>501</th>\n",
       "      <td>2023-06-10 06:30:00</td>\n",
       "      <td>256.80</td>\n",
       "    </tr>\n",
       "    <tr>\n",
       "      <th>502</th>\n",
       "      <td>2023-06-10 06:15:00</td>\n",
       "      <td>257.05</td>\n",
       "    </tr>\n",
       "    <tr>\n",
       "      <th>503</th>\n",
       "      <td>2023-06-10 06:00:00</td>\n",
       "      <td>256.60</td>\n",
       "    </tr>\n",
       "    <tr>\n",
       "      <th>504</th>\n",
       "      <td>2023-06-10 05:45:00</td>\n",
       "      <td>256.74</td>\n",
       "    </tr>\n",
       "    <tr>\n",
       "      <th>505</th>\n",
       "      <td>2023-06-10 05:30:00</td>\n",
       "      <td>257.19</td>\n",
       "    </tr>\n",
       "    <tr>\n",
       "      <th>...</th>\n",
       "      <td>...</td>\n",
       "      <td>...</td>\n",
       "    </tr>\n",
       "    <tr>\n",
       "      <th>739</th>\n",
       "      <td>2023-02-10 11:00:00</td>\n",
       "      <td>250.25</td>\n",
       "    </tr>\n",
       "    <tr>\n",
       "      <th>740</th>\n",
       "      <td>2023-02-10 10:45:00</td>\n",
       "      <td>249.14</td>\n",
       "    </tr>\n",
       "    <tr>\n",
       "      <th>741</th>\n",
       "      <td>2023-02-10 10:30:00</td>\n",
       "      <td>248.15</td>\n",
       "    </tr>\n",
       "    <tr>\n",
       "      <th>742</th>\n",
       "      <td>2023-02-10 10:15:00</td>\n",
       "      <td>248.47</td>\n",
       "    </tr>\n",
       "    <tr>\n",
       "      <th>743</th>\n",
       "      <td>2023-02-10 10:00:00</td>\n",
       "      <td>246.13</td>\n",
       "    </tr>\n",
       "  </tbody>\n",
       "</table>\n",
       "<p>307 rows × 2 columns</p>\n",
       "</div>"
      ],
      "text/plain": [
       "                   Date    Open\n",
       "501 2023-06-10 06:30:00  256.80\n",
       "502 2023-06-10 06:15:00  257.05\n",
       "503 2023-06-10 06:00:00  256.60\n",
       "504 2023-06-10 05:45:00  256.74\n",
       "505 2023-06-10 05:30:00  257.19\n",
       "..                  ...     ...\n",
       "739 2023-02-10 11:00:00  250.25\n",
       "740 2023-02-10 10:45:00  249.14\n",
       "741 2023-02-10 10:30:00  248.15\n",
       "742 2023-02-10 10:15:00  248.47\n",
       "743 2023-02-10 10:00:00  246.13\n",
       "\n",
       "[307 rows x 2 columns]"
      ]
     },
     "execution_count": 6,
     "metadata": {},
     "output_type": "execute_result"
    }
   ],
   "source": [
    "# Creando datos de validación\n",
    "\n",
    "validation_data = data[length_train:].iloc[:,:2]\n",
    "validation_data['Date'] = pd.to_datetime(validation_data['Date'])  # converting to date time object\n",
    "validation_data"
   ]
  },
  {
   "cell_type": "markdown",
   "id": "b3460ba9",
   "metadata": {},
   "source": [
    "## Crear un conjunto de datos de tren a partir de una división de tren"
   ]
  },
  {
   "cell_type": "code",
   "execution_count": 7,
   "id": "318149ab",
   "metadata": {},
   "outputs": [
    {
     "data": {
      "text/plain": [
       "(717, 1)"
      ]
     },
     "execution_count": 7,
     "metadata": {},
     "output_type": "execute_result"
    }
   ],
   "source": [
    "dataset_train = train_data.Open.values\n",
    "dataset_train.shape\n",
    "# Cambiando 1d array a 2d array\n",
    "# Cambiando la forma (1692,) a (1692,1)\n",
    "dataset_train = np.reshape(dataset_train, (-1,1))\n",
    "dataset_train.shape"
   ]
  },
  {
   "cell_type": "markdown",
   "id": "f29eb1ba",
   "metadata": {},
   "source": [
    "## Normalización"
   ]
  },
  {
   "cell_type": "code",
   "execution_count": 8,
   "id": "787b8111",
   "metadata": {},
   "outputs": [
    {
     "data": {
      "text/plain": [
       "(717, 1)"
      ]
     },
     "execution_count": 8,
     "metadata": {},
     "output_type": "execute_result"
    }
   ],
   "source": [
    "from sklearn.preprocessing import MinMaxScaler\n",
    "scaler = MinMaxScaler(feature_range = (0,1))\n",
    "\n",
    "\n",
    "# scaling dataset\n",
    "dataset_train_scaled = scaler.fit_transform(dataset_train)\n",
    "\n",
    "dataset_train_scaled.shape"
   ]
  },
  {
   "cell_type": "code",
   "execution_count": 9,
   "id": "d44f2b5f",
   "metadata": {},
   "outputs": [
    {
     "data": {
      "image/png": "[encoded data removed]",
      "text/plain": [
       "<Figure size 1500x600 with 1 Axes>"
      ]
     },
     "metadata": {},
     "output_type": "display_data"
    }
   ],
   "source": [
    "# Graficando los datos\n",
    "\n",
    "plt.subplots(figsize = (15,6))\n",
    "plt.plot(dataset_train_scaled)\n",
    "plt.xlabel(\"Unidades de tiempo as 1st, 2nd, 3rd..\")\n",
    "plt.ylabel(\"Precios apertura\")\n",
    "plt.show()"
   ]
  },
  {
   "cell_type": "markdown",
   "id": "b7bfa3c4",
   "metadata": {},
   "source": [
    "## Creando X_train e y_train a partir de datos de Train"
   ]
  },
  {
   "cell_type": "code",
   "execution_count": 10,
   "id": "c3f7c1c2",
   "metadata": {},
   "outputs": [],
   "source": [
    "X_train = []\n",
    "y_train = []\n",
    "\n",
    "time_step = 50\n",
    "\n",
    "for i in range(time_step, length_train):\n",
    "    X_train.append(dataset_train_scaled[i-time_step:i,0])\n",
    "    y_train.append(dataset_train_scaled[i,0])\n",
    "    \n",
    "# Convirtiendo lista en arreglo\n",
    "\n",
    "X_train, y_train = np.array(X_train), np.array(y_train)"
   ]
  },
  {
   "cell_type": "code",
   "execution_count": null,
   "id": "5f209764",
   "metadata": {},
   "outputs": [],
   "source": [
    "print(\"Forma de X_train antes de remodelar :\",X_train.shape)\n",
    "print(\"Forma de y_train antes de remodelar :\",y_train.shape)"
   ]
  }
 ],
 "metadata": {
  "kernelspec": {
   "display_name": "valorIA",
   "language": "python",
   "name": "valoria"
  },
  "language_info": {
   "codemirror_mode": {
    "name": "ipython",
    "version": 3
   },
   "file_extension": ".py",
   "mimetype": "text/x-python",
   "name": "python",
   "nbconvert_exporter": "python",
   "pygments_lexer": "ipython3",
   "version": "3.11.0"
  }
 },
 "nbformat": 4,
 "nbformat_minor": 5
}
